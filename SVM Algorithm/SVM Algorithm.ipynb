{
 "cells": [
  {
   "cell_type": "code",
   "execution_count": 3,
   "metadata": {},
   "outputs": [
    {
     "name": "stdout",
     "output_type": "stream",
     "text": [
      "[[66  2]\n",
      " [ 8 24]]\n",
      "0.9\n"
     ]
    }
   ],
   "source": [
    "# Write a program to implement Support Vector Machine. Also discuss the confusion matrix and score of model.\n",
    "import pandas as pd\n",
    "import numpy as np\n",
    "import matplotlib.pyplot as plt\n",
    "\n",
    "df=pd.read_csv(\"Social_Network_Ads.csv\")\n",
    "\n",
    "features=df.iloc[:,2:4].values\n",
    "label=df.iloc[:,-1].values\n",
    "\n",
    "# spliting dataset\n",
    "from sklearn.model_selection import train_test_split\n",
    "f_train, f_test, l_train, l_test= train_test_split(features, label, test_size=0.25, random_state=0)\n",
    "\n",
    "#scaing\n",
    "\n",
    "from sklearn.preprocessing import StandardScaler\n",
    "sc=StandardScaler()\n",
    "f_train=sc.fit_transform(f_train)\n",
    "f_test=sc.transform(f_test)\n",
    "\n",
    "#fitting SVM to training set\n",
    "from sklearn.svm import SVC\n",
    "svc=SVC(kernel=\"linear\", random_state=0)\n",
    "svc.fit(f_train,l_train)\n",
    "\n",
    "# prediction of test features\n",
    "labels_pred=svc.predict(f_test)\n",
    "\n",
    "# confusion matrix\n",
    "from sklearn.metrics import confusion_matrix\n",
    "cm= confusion_matrix(l_test, labels_pred)\n",
    "print(cm)\n",
    "#calculate score\n",
    "scores= svc.score(f_test, l_test)\n",
    "print(scores)"
   ]
  },
  {
   "cell_type": "code",
   "execution_count": null,
   "metadata": {},
   "outputs": [],
   "source": [
    "# # visualizing\n",
    "# from matplotlib.colors import ListedColormap\n",
    "# features_set, labels_set = f_train, l_train\n",
    "# X1, X2 = np.meshgrid(np.arange(start = features_set[:, 0].min() - 1, stop = features_set[:, 0].max() + 1, step = 0.01),\n",
    "#                      np.arange(start = features_set[:, 1].min() - 1, stop = features_set[:, 1].max() + 1, step = 0.01))\n",
    "# plt.contourf(X1, X2, svc.predict(np.array([X1.ravel(), X2.ravel()]).T).reshape(X1.shape),\n",
    "#              alpha = 0.75, cmap = ListedColormap(('red', 'green')))\n",
    "# plt.xlim(X1.min(), X1.max())\n",
    "# plt.ylim(X2.min(), X2.max())\n",
    "# for i, j in enumerate(np.unique(labels_set)):\n",
    "#     plt.scatter(features_set[labels_set == j, 0], features_set[labels_set == j, 1],\n",
    "#                 c = ListedColormap(('red', 'green'))(i), label = j)\n",
    "# plt.title('SVM (Training set)')\n",
    "# plt.xlabel('Age')\n",
    "# plt.ylabel('Estimated Salary')\n",
    "# plt.legend()\n",
    "# plt.show()\n",
    "\n",
    "# # Visualising the Test set results\n",
    "# from matplotlib.colors import ListedColormap\n",
    "# features_set, labels_set = f_test, l_test\n",
    "# X1, X2 = np.meshgrid(np.arange(start = features_set[:, 0].min() - 1, stop = features_set[:, 0].max() + 1, step = 0.01),\n",
    "#                      np.arange(start = features_set[:, 1].min() - 1, stop = features_set[:, 1].max() + 1, step = 0.01))\n",
    "# plt.contourf(X1, X2, svc.predict(np.array([X1.ravel(), X2.ravel()]).T).reshape(X1.shape),\n",
    "#              alpha = 0.75, cmap = ListedColormap(('red', 'green')))\n",
    "# plt.xlim(X1.min(), X1.max())\n",
    "# plt.ylim(X2.min(), X2.max())\n",
    "# for i, j in enumerate(np.unique(labels_set)):\n",
    "#     plt.scatter(features_set[labels_set == j, 0], features_set[labels_set == j, 1],\n",
    "#                 c = ListedColormap(('red', 'green'))(i), label = j)\n",
    "# plt.title('SVM (Test set)')\n",
    "# plt.xlabel('Age')\n",
    "# plt.ylabel('Estimated Salary')\n",
    "# plt.legend()\n",
    "# plt.show()"
   ]
  }
 ],
 "metadata": {
  "kernelspec": {
   "display_name": "Python 3",
   "language": "python",
   "name": "python3"
  },
  "language_info": {
   "codemirror_mode": {
    "name": "ipython",
    "version": 3
   },
   "file_extension": ".py",
   "mimetype": "text/x-python",
   "name": "python",
   "nbconvert_exporter": "python",
   "pygments_lexer": "ipython3",
   "version": "3.6.8"
  }
 },
 "nbformat": 4,
 "nbformat_minor": 2
}
