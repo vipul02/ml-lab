{
 "cells": [
  {
   "cell_type": "code",
   "execution_count": 1,
   "metadata": {},
   "outputs": [
    {
     "name": "stdout",
     "output_type": "stream",
     "text": [
      "[0.         0.06346652 0.12693304 0.19039955 0.25386607 0.31733259\n",
      " 0.38079911 0.44426563 0.50773215 0.57119866 0.63466518 0.6981317\n",
      " 0.76159822 0.82506474 0.88853126 0.95199777 1.01546429 1.07893081\n",
      " 1.14239733 1.20586385 1.26933037 1.33279688 1.3962634  1.45972992\n",
      " 1.52319644 1.58666296 1.65012947 1.71359599 1.77706251 1.84052903\n",
      " 1.90399555 1.96746207 2.03092858 2.0943951  2.15786162 2.22132814\n",
      " 2.28479466 2.34826118 2.41172769 2.47519421 2.53866073 2.60212725\n",
      " 2.66559377 2.72906028 2.7925268  2.85599332 2.91945984 2.98292636\n",
      " 3.04639288 3.10985939 3.17332591 3.23679243 3.30025895 3.36372547\n",
      " 3.42719199 3.4906585  3.55412502 3.61759154 3.68105806 3.74452458\n",
      " 3.8079911  3.87145761 3.93492413 3.99839065 4.06185717 4.12532369\n",
      " 4.1887902  4.25225672 4.31572324 4.37918976 4.44265628 4.5061228\n",
      " 4.56958931 4.63305583 4.69652235 4.75998887 4.82345539 4.88692191\n",
      " 4.95038842 5.01385494 5.07732146 5.14078798 5.2042545  5.26772102\n",
      " 5.33118753 5.39465405 5.45812057 5.52158709 5.58505361 5.64852012\n",
      " 5.71198664 5.77545316 5.83891968 5.9023862  5.96585272 6.02931923\n",
      " 6.09278575 6.15625227 6.21971879 6.28318531]\n"
     ]
    },
    {
     "data": {
      "text/plain": [
       "<Figure size 640x480 with 1 Axes>"
      ]
     },
     "metadata": {},
     "output_type": "display_data"
    }
   ],
   "source": [
    "from math import ceil\n",
    "import numpy as np\n",
    "from scipy import linalg  \n",
    " \n",
    "def lowess(x, y, f= 2. / 3., iter=3):\n",
    "    \n",
    "    n = len(x) # Number of x  points \n",
    "    r = int(ceil(f * n))  # Computing the residual of smoothing functions \n",
    "    h = [np.sort(np.abs(x - x[i]))[r] for i in range(n)] # \n",
    "    w = np.clip(np.abs((x[:, None] - x[None, :]) / h), 0.0, 1.0)  # Weight Function \n",
    "    w = (1 - w ** 3) ** 3  # Tricube Weight Function\n",
    "    ypred = np.zeros(n) # Initialisation of predictor \n",
    "    delta = np.ones(n)  # Initialisation of delta\n",
    "   \n",
    "    for iteration in range(iter):\n",
    "        for i in range(n):\n",
    "            weights = delta * w[:, i] # Cumulative Weights \n",
    "            b = np.array([np.sum(weights * y), np.sum(weights * y * x)]) # Matrix B\n",
    "            A = np.array([[np.sum(weights), np.sum(weights * x)],\n",
    "                          [np.sum(weights * x), np.sum(weights * x * x)]]) # Matrix A\n",
    "                      \n",
    "            beta = linalg.solve(A, b) # Beta,Solution of AX= B equation \n",
    "            ypred[i] = beta[0] + beta[1] * x[i]\n",
    "             \n",
    "        residuals = y - ypred   # Finding Residuals\n",
    "        s = np.median(np.abs(residuals))  # Median of Residuals\n",
    "        delta = np.clip(residuals / (6.0 * s), -1, 1)  # Delta\n",
    "        delta = (1 - delta ** 2) ** 2   # Delta \n",
    " \n",
    "    return ypred\n",
    " \n",
    "if __name__ == '__main__':  # Main Function\n",
    "    \n",
    "    import math\n",
    "    \n",
    "    n = 100  # Number of data points\n",
    "   \n",
    "    #Case1: Sinusoidal Fitting \n",
    "    x = np.linspace(0, 2 * math.pi, n)\n",
    "    print(x)\n",
    "    y = np.sin(x) + 0.3 * np.random.randn(n) \n",
    "    \n",
    "    #Case2 : Straight Line Fitting\n",
    "    #x=np.linspace(0,2.5,n) # For Linear\n",
    "    #y= 1 + 0.25*np.random.randn(n) # For Linear\n",
    "    \n",
    "    f = 0.25\n",
    "    ypred = lowess(x, y, f=f, iter=3)\n",
    "    \n",
    "    import pylab as pl\n",
    "    pl.clf()\n",
    "    pl.plot(x, y, label='Y NOISY')\n",
    "    pl.plot(x, ypred, label='Y PREDICTED')\n",
    "    pl.legend()\n",
    "    pl.show()"
   ]
  },
  {
   "cell_type": "code",
   "execution_count": 2,
   "metadata": {},
   "outputs": [],
   "source": [
    "\n",
    "def local_regression(x0, X, Y, tau):\n",
    "    # add bias term\n",
    "    x0 = np.r_[1, x0] # Add one to avoid the loss in information \n",
    "    X = np.c_[np.ones(len(X)), X]   \n",
    "       \n",
    "    # fit model: normal equations with kernel\n",
    "    xw = X.T * radial_kernel(x0, X, tau)   # XTranspose * W\n",
    "    \n",
    "    beta = np.linalg.pinv(xw @ X) @ xw @ Y   # @ Matrix Multiplication or Dot Product  \n",
    "        \n",
    "    # predict value\n",
    "    return x0 @ beta    # @ Matrix Multiplication or Dot Product for prediction \n",
    "\n",
    "def radial_kernel(x0, X, tau):\n",
    "    return np.exp(np.sum((X - x0) ** 2, axis=1) / (-2 * tau * tau))   # Weight or Radial Kernal Bias Function"
   ]
  },
  {
   "cell_type": "code",
   "execution_count": 3,
   "metadata": {},
   "outputs": [
    {
     "name": "stdout",
     "output_type": "stream",
     "text": [
      "The Data Set ( 10 Samples) X :\n",
      " [-2.99399399 -2.98798799 -2.98198198 -2.97597598 -2.96996997 -2.96396396\n",
      " -2.95795796 -2.95195195 -2.94594595]\n",
      "The Fitting Curve Data Set (10 Samples) Y  :\n",
      " [2.13582188 2.13156806 2.12730467 2.12303166 2.11874898 2.11445659\n",
      " 2.11015444 2.10584249 2.10152068]\n",
      "Normalised (10 Samples) X :\n",
      " [-2.94319723 -2.94463324 -2.93924706 -2.96971586 -2.84727027 -2.91036317\n",
      " -3.09411482 -3.16167033 -3.00438353]\n"
     ]
    }
   ],
   "source": [
    "n = 1000\n",
    "# generate dataset\n",
    "X = np.linspace(-3, 3, num=n)\n",
    "print(\"The Data Set ( 10 Samples) X :\\n\",X[1:10])\n",
    "Y = np.log(np.abs(X ** 2 - 1) + .5)\n",
    "print(\"The Fitting Curve Data Set (10 Samples) Y  :\\n\",Y[1:10])\n",
    "# jitter X\n",
    "X += np.random.normal(scale=.1, size=n)\n",
    "print(\"Normalised (10 Samples) X :\\n\",X[1:10])"
   ]
  },
  {
   "cell_type": "code",
   "execution_count": null,
   "metadata": {},
   "outputs": [],
   "source": []
  }
 ],
 "metadata": {
  "kernelspec": {
   "display_name": "Python 3",
   "language": "python",
   "name": "python3"
  },
  "language_info": {
   "codemirror_mode": {
    "name": "ipython",
    "version": 3
   },
   "file_extension": ".py",
   "mimetype": "text/x-python",
   "name": "python",
   "nbconvert_exporter": "python",
   "pygments_lexer": "ipython3",
   "version": "3.6.8"
  }
 },
 "nbformat": 4,
 "nbformat_minor": 2
}
