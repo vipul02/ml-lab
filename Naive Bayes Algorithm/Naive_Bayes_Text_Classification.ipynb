{
  "nbformat": 4,
  "nbformat_minor": 0,
  "metadata": {
    "colab": {
      "name": "Naive Bayes Text Classification.ipynb",
      "provenance": []
    },
    "kernelspec": {
      "name": "python3",
      "display_name": "Python 3"
    }
  },
  "cells": [
    {
      "cell_type": "code",
      "metadata": {
        "id": "V0Tr44aDHA6-",
        "colab_type": "code",
        "colab": {}
      },
      "source": [
        "# Design and implement Naïve Bayes Algorithm for learning and classifying TEXT DOCUMENTS.\n",
        "import pandas as pd\n",
        "import numpy as np\n",
        "import matplotlib.pyplot as plt\n",
        "from sklearn.model_selection import train_test_split\n",
        "from sklearn.naive_bayes import GaussianNB, BernoulliNB, MultinomialNB\n",
        "from sklearn.datasets import fetch_20newsgroups"
      ],
      "execution_count": 0,
      "outputs": []
    },
    {
      "cell_type": "code",
      "metadata": {
        "id": "6R1QK_qlHaoJ",
        "colab_type": "code",
        "colab": {
          "base_uri": "https://localhost:8080/",
          "height": 840
        },
        "outputId": "6dcf1e5a-4293-49cb-84b6-0ac0c6977ee1"
      },
      "source": [
        "twenty_train = fetch_20newsgroups(subset='train', shuffle=True)\n",
        "x = len(twenty_train.target_names)\n",
        "print(\"\\n The number of categories:\",x)\n",
        "for cat in twenty_train.target_names:\n",
        "    print(\"Category[%d]:\" %i,cat)\n",
        "    i=i+1\n",
        "print(\"\\n Length of training data is\",len(twenty_train.data))\n",
        "print(\"\\n The Content/Data of First File is :\\n\")\n",
        "print(twenty_train.data[0])"
      ],
      "execution_count": 9,
      "outputs": [
        {
          "output_type": "stream",
          "text": [
            "\n",
            " The number of categories: 20\n",
            "Category[21]: alt.atheism\n",
            "Category[22]: comp.graphics\n",
            "Category[23]: comp.os.ms-windows.misc\n",
            "Category[24]: comp.sys.ibm.pc.hardware\n",
            "Category[25]: comp.sys.mac.hardware\n",
            "Category[26]: comp.windows.x\n",
            "Category[27]: misc.forsale\n",
            "Category[28]: rec.autos\n",
            "Category[29]: rec.motorcycles\n",
            "Category[30]: rec.sport.baseball\n",
            "Category[31]: rec.sport.hockey\n",
            "Category[32]: sci.crypt\n",
            "Category[33]: sci.electronics\n",
            "Category[34]: sci.med\n",
            "Category[35]: sci.space\n",
            "Category[36]: soc.religion.christian\n",
            "Category[37]: talk.politics.guns\n",
            "Category[38]: talk.politics.mideast\n",
            "Category[39]: talk.politics.misc\n",
            "Category[40]: talk.religion.misc\n",
            "\n",
            " Length of training data is 11314\n",
            "\n",
            " The Content/Data of First File is :\n",
            "\n",
            "From: lerxst@wam.umd.edu (where's my thing)\n",
            "Subject: WHAT car is this!?\n",
            "Nntp-Posting-Host: rac3.wam.umd.edu\n",
            "Organization: University of Maryland, College Park\n",
            "Lines: 15\n",
            "\n",
            " I was wondering if anyone out there could enlighten me on this car I saw\n",
            "the other day. It was a 2-door sports car, looked to be from the late 60s/\n",
            "early 70s. It was called a Bricklin. The doors were really small. In addition,\n",
            "the front bumper was separate from the rest of the body. This is \n",
            "all I know. If anyone can tellme a model name, engine specs, years\n",
            "of production, where this car is made, history, or whatever info you\n",
            "have on this funky looking car, please e-mail.\n",
            "\n",
            "Thanks,\n",
            "- IL\n",
            "   ---- brought to you by your neighborhood Lerxst ----\n",
            "\n",
            "\n",
            "\n",
            "\n",
            "\n"
          ],
          "name": "stdout"
        }
      ]
    },
    {
      "cell_type": "code",
      "metadata": {
        "id": "hhwBXXw2HtQr",
        "colab_type": "code",
        "colab": {}
      },
      "source": [
        "from sklearn.feature_extraction.text import TfidfTransformer\n",
        "from sklearn.feature_extraction.text import CountVectorizer\n",
        "from sklearn.pipeline import Pipeline\n",
        "text_clf = Pipeline([('vect', CountVectorizer()),\n",
        "                      ('tfidf', TfidfTransformer()),\n",
        "                      ('clf', MultinomialNB()),\n",
        " ])"
      ],
      "execution_count": 0,
      "outputs": []
    },
    {
      "cell_type": "code",
      "metadata": {
        "id": "GLLedWh0IE2i",
        "colab_type": "code",
        "colab": {
          "base_uri": "https://localhost:8080/",
          "height": 302
        },
        "outputId": "508ac630-d441-4a7f-a5ee-70fd1b165874"
      },
      "source": [
        "text_clf.fit(twenty_train.data, twenty_train.target)"
      ],
      "execution_count": 16,
      "outputs": [
        {
          "output_type": "execute_result",
          "data": {
            "text/plain": [
              "Pipeline(memory=None,\n",
              "         steps=[('vect',\n",
              "                 CountVectorizer(analyzer='word', binary=False,\n",
              "                                 decode_error='strict',\n",
              "                                 dtype=<class 'numpy.int64'>, encoding='utf-8',\n",
              "                                 input='content', lowercase=True, max_df=1.0,\n",
              "                                 max_features=None, min_df=1,\n",
              "                                 ngram_range=(1, 1), preprocessor=None,\n",
              "                                 stop_words=None, strip_accents=None,\n",
              "                                 token_pattern='(?u)\\\\b\\\\w\\\\w+\\\\b',\n",
              "                                 tokenizer=None, vocabulary=None)),\n",
              "                ('tfidf',\n",
              "                 TfidfTransformer(norm='l2', smooth_idf=True,\n",
              "                                  sublinear_tf=False, use_idf=True)),\n",
              "                ('clf',\n",
              "                 MultinomialNB(alpha=1.0, class_prior=None, fit_prior=True))],\n",
              "         verbose=False)"
            ]
          },
          "metadata": {
            "tags": []
          },
          "execution_count": 16
        }
      ]
    },
    {
      "cell_type": "code",
      "metadata": {
        "id": "SqNzeBAnJu_2",
        "colab_type": "code",
        "colab": {
          "base_uri": "https://localhost:8080/",
          "height": 34
        },
        "outputId": "bc74d974-c0c3-4a35-bb4e-bc30f7096cd4"
      },
      "source": [
        "# Evaluating the predictive accuracy of the model is equally easy:\n",
        "twenty_test = fetch_20newsgroups(subset='test', shuffle=True, random_state=42)\n",
        "docs_test = twenty_test.data\n",
        "predicted = text_clf.predict(docs_test)\n",
        "np.mean(predicted == twenty_test.target)"
      ],
      "execution_count": 18,
      "outputs": [
        {
          "output_type": "execute_result",
          "data": {
            "text/plain": [
              "0.7738980350504514"
            ]
          },
          "metadata": {
            "tags": []
          },
          "execution_count": 18
        }
      ]
    },
    {
      "cell_type": "code",
      "metadata": {
        "id": "EUUqLtNjKCHT",
        "colab_type": "code",
        "colab": {
          "base_uri": "https://localhost:8080/",
          "height": 470
        },
        "outputId": "397fbc11-9c5d-4a47-d765-da468411f7af"
      },
      "source": [
        "from sklearn import metrics\n",
        "print(metrics.classification_report(twenty_test.target, predicted,\n",
        "     target_names=twenty_test.target_names))"
      ],
      "execution_count": 19,
      "outputs": [
        {
          "output_type": "stream",
          "text": [
            "                          precision    recall  f1-score   support\n",
            "\n",
            "             alt.atheism       0.80      0.52      0.63       319\n",
            "           comp.graphics       0.81      0.65      0.72       389\n",
            " comp.os.ms-windows.misc       0.82      0.65      0.73       394\n",
            "comp.sys.ibm.pc.hardware       0.67      0.78      0.72       392\n",
            "   comp.sys.mac.hardware       0.86      0.77      0.81       385\n",
            "          comp.windows.x       0.89      0.75      0.82       395\n",
            "            misc.forsale       0.93      0.69      0.80       390\n",
            "               rec.autos       0.85      0.92      0.88       396\n",
            "         rec.motorcycles       0.94      0.93      0.93       398\n",
            "      rec.sport.baseball       0.92      0.90      0.91       397\n",
            "        rec.sport.hockey       0.89      0.97      0.93       399\n",
            "               sci.crypt       0.59      0.97      0.74       396\n",
            "         sci.electronics       0.84      0.60      0.70       393\n",
            "                 sci.med       0.92      0.74      0.82       396\n",
            "               sci.space       0.84      0.89      0.87       394\n",
            "  soc.religion.christian       0.44      0.98      0.61       398\n",
            "      talk.politics.guns       0.64      0.94      0.76       364\n",
            "   talk.politics.mideast       0.93      0.91      0.92       376\n",
            "      talk.politics.misc       0.96      0.42      0.58       310\n",
            "      talk.religion.misc       0.97      0.14      0.24       251\n",
            "\n",
            "                accuracy                           0.77      7532\n",
            "               macro avg       0.83      0.76      0.76      7532\n",
            "            weighted avg       0.82      0.77      0.77      7532\n",
            "\n"
          ],
          "name": "stdout"
        }
      ]
    },
    {
      "cell_type": "code",
      "metadata": {
        "id": "qnCyaB2rKT9p",
        "colab_type": "code",
        "colab": {
          "base_uri": "https://localhost:8080/",
          "height": 689
        },
        "outputId": "5442eddb-cc0d-4069-c6fe-51ade2cf670e"
      },
      "source": [
        "metrics.confusion_matrix(twenty_test.target, predicted)"
      ],
      "execution_count": 20,
      "outputs": [
        {
          "output_type": "execute_result",
          "data": {
            "text/plain": [
              "array([[166,   0,   0,   1,   0,   1,   0,   0,   1,   1,   1,   3,   0,\n",
              "          6,   3, 123,   4,   8,   0,   1],\n",
              "       [  1, 252,  15,  12,   9,  18,   1,   2,   1,   5,   2,  41,   4,\n",
              "          0,   6,  15,   4,   1,   0,   0],\n",
              "       [  0,  14, 258,  45,   3,   9,   0,   2,   1,   3,   2,  25,   1,\n",
              "          0,   6,  23,   2,   0,   0,   0],\n",
              "       [  0,   5,  11, 305,  17,   1,   3,   6,   1,   0,   2,  19,  13,\n",
              "          0,   5,   3,   1,   0,   0,   0],\n",
              "       [  0,   3,   8,  23, 298,   0,   3,   8,   1,   3,   1,  16,   8,\n",
              "          0,   2,   8,   3,   0,   0,   0],\n",
              "       [  1,  21,  17,  13,   2, 298,   1,   0,   1,   1,   0,  23,   0,\n",
              "          1,   4,  10,   2,   0,   0,   0],\n",
              "       [  0,   1,   3,  31,  12,   1, 271,  19,   4,   4,   6,   5,  12,\n",
              "          6,   3,   9,   3,   0,   0,   0],\n",
              "       [  0,   1,   0,   3,   0,   0,   4, 364,   3,   2,   2,   4,   1,\n",
              "          1,   3,   3,   4,   0,   1,   0],\n",
              "       [  0,   0,   0,   1,   0,   0,   2,  10, 371,   0,   0,   4,   0,\n",
              "          0,   0,   8,   2,   0,   0,   0],\n",
              "       [  0,   0,   0,   0,   1,   0,   0,   4,   0, 357,  22,   0,   0,\n",
              "          0,   2,   9,   1,   1,   0,   0],\n",
              "       [  0,   0,   0,   0,   0,   0,   0,   1,   0,   4, 387,   1,   0,\n",
              "          0,   1,   5,   0,   0,   0,   0],\n",
              "       [  0,   2,   1,   0,   0,   1,   1,   3,   0,   0,   0, 383,   1,\n",
              "          0,   0,   3,   1,   0,   0,   0],\n",
              "       [  0,   4,   2,  17,   5,   0,   2,   8,   7,   1,   2,  78, 235,\n",
              "          3,  11,  15,   2,   1,   0,   0],\n",
              "       [  2,   3,   0,   1,   1,   3,   1,   0,   2,   3,   4,  11,   5,\n",
              "        292,   6,  52,   6,   4,   0,   0],\n",
              "       [  0,   2,   0,   1,   0,   3,   0,   2,   1,   0,   1,   6,   1,\n",
              "          2, 351,  19,   4,   0,   1,   0],\n",
              "       [  2,   0,   0,   0,   0,   0,   0,   0,   1,   0,   0,   0,   0,\n",
              "          1,   2, 392,   0,   0,   0,   0],\n",
              "       [  0,   0,   0,   1,   0,   0,   2,   0,   1,   1,   0,  10,   0,\n",
              "          0,   1,   6, 341,   1,   0,   0],\n",
              "       [  0,   1,   0,   0,   0,   0,   0,   0,   0,   1,   0,   2,   0,\n",
              "          0,   0,  24,   3, 344,   1,   0],\n",
              "       [  2,   0,   0,   0,   0,   0,   0,   1,   0,   0,   1,  11,   0,\n",
              "          1,   7,  35, 118,   5, 129,   0],\n",
              "       [ 33,   2,   0,   0,   0,   0,   0,   0,   0,   1,   1,   3,   0,\n",
              "          4,   4, 131,  29,   5,   3,  35]])"
            ]
          },
          "metadata": {
            "tags": []
          },
          "execution_count": 20
        }
      ]
    },
    {
      "cell_type": "code",
      "metadata": {
        "id": "Gjv5kGffKaS4",
        "colab_type": "code",
        "colab": {}
      },
      "source": [
        ""
      ],
      "execution_count": 0,
      "outputs": []
    }
  ]
}