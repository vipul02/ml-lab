{
 "cells": [
  {
   "cell_type": "code",
   "execution_count": 1,
   "metadata": {},
   "outputs": [],
   "source": [
    "# Implement K-Nearest Neighbor algorithm to classify the iris data set. Calculate the score also. \n",
    "import pandas as pd\n",
    "import numpy as np\n",
    "import matplotlib.pyplot as plt"
   ]
  },
  {
   "cell_type": "code",
   "execution_count": 7,
   "metadata": {},
   "outputs": [
    {
     "name": "stdout",
     "output_type": "stream",
     "text": [
      "[[13  0  0]\n",
      " [ 0 13  3]\n",
      " [ 0  0  9]]\n",
      "0.9210526315789473\n"
     ]
    }
   ],
   "source": [
    "df = pd.read_csv('Iris.csv')\n",
    "features = df.iloc[:,1:-1].values\n",
    "labels = df.iloc[:,-1].values\n",
    "\n",
    "# splitting dataset\n",
    "\n",
    "from sklearn.model_selection import train_test_split\n",
    "f_train, f_test, l_train, l_test= train_test_split(features, labels, test_size=0.25, random_state=0) \n",
    "\n",
    "# feature scaling\n",
    "from sklearn.preprocessing import StandardScaler\n",
    "sc=StandardScaler()\n",
    "f_train=sc.fit_transform(f_train)\n",
    "f_test=sc.fit_transform(f_test)\n",
    "\n",
    "\n",
    "# fitting k-nn to training set\n",
    "from sklearn.neighbors import KNeighborsClassifier\n",
    "classifier=KNeighborsClassifier(n_neighbors=5, p=1)\n",
    "classifier.fit(f_train,l_train)\n",
    "\n",
    "pred=classifier.predict(f_test)\n",
    "\n",
    "from sklearn.metrics import confusion_matrix\n",
    "cm=confusion_matrix(l_test,pred)\n",
    "print(cm)     \n",
    "score=classifier.score(f_test,l_test)\n",
    "print(score)"
   ]
  },
  {
   "cell_type": "code",
   "execution_count": 13,
   "metadata": {},
   "outputs": [
    {
     "data": {
      "text/plain": [
       "array(['Iris-setosa', 'Iris-versicolor', 'Iris-virginica'], dtype=object)"
      ]
     },
     "execution_count": 13,
     "metadata": {},
     "output_type": "execute_result"
    }
   ],
   "source": [
    "df['Species'].unique()"
   ]
  },
  {
   "cell_type": "code",
   "execution_count": 14,
   "metadata": {},
   "outputs": [],
   "source": [
    "# # Visualising the Training set results\n",
    "# from matplotlib.colors import ListedColormap\n",
    "# features_set, labels_set = f_train, l_train\n",
    "# features1, features2 = np.meshgrid(np.arange(start = features_set[:, 0].min() - 1, stop = features_set[:, 0].max() + 1, step = 0.01),\n",
    "#                      np.arange(start = features_set[:, 1].min() - 1, stop = features_set[:, 1].max() + 1, step = 0.01))\n",
    "# plt.contourf(features1, features2, classifier.predict(np.array([features1.ravel(), features2.ravel()]).T).reshape(features1.shape),\n",
    "#              alpha = 0.75, cmap = ListedColormap(('red', 'green')))\n",
    "# plt.xlim(features1.min(), features1.max())\n",
    "# plt.ylim(features2.min(), features2.max())\n",
    "# for i, j in enumerate(np.unique(labels_set)):\n",
    "#     plt.scatter(features_set[labels_set == j, 0], features_set[labels_set == j, 1],\n",
    "#                 c = ListedColormap(('red', 'green'))(i), label = j)\n",
    "# plt.title('K-NN (Training set)')\n",
    "# plt.xlabel('Age')\n",
    "# plt.ylabel('Estimated Salary')\n",
    "# plt.legend()\n",
    "# plt.show()\n",
    "\n",
    "# # Visualising the Test set results\n",
    "# # Visualising the Training set results\n",
    "# from matplotlib.colors import ListedColormap\n",
    "# features_set, labels_set = f_test, l_test\n",
    "# features1, features2 = np.meshgrid(np.arange(start = features_set[:, 0].min() - 1, stop = features_set[:, 0].max() + 1, step = 0.01),\n",
    "#                      np.arange(start = features_set[:, 1].min() - 1, stop = features_set[:, 1].max() + 1, step = 0.01))\n",
    "# plt.contourf(features1, features2, classifier.predict(np.array([features1.ravel(), features2.ravel()]).T).reshape(features1.shape),\n",
    "#              alpha = 0.75, cmap = ListedColormap(('red', 'green')))\n",
    "# plt.xlim(features1.min(), features1.max())\n",
    "# plt.ylim(features2.min(), features2.max())\n",
    "# for i, j in enumerate(np.unique(labels_set)):\n",
    "#     plt.scatter(features_set[labels_set == j, 0], features_set[labels_set == j, 1],\n",
    "#                 c = ListedColormap(('red', 'green'))(i), label = j)\n",
    "# plt.title('K-NN (Test set)')\n",
    "# plt.xlabel('Age')\n",
    "# plt.ylabel('Estimated Salary')\n",
    "# plt.legend()\n",
    "# plt.show()"
   ]
  },
  {
   "cell_type": "code",
   "execution_count": null,
   "metadata": {},
   "outputs": [],
   "source": []
  }
 ],
 "metadata": {
  "kernelspec": {
   "display_name": "Python 3",
   "language": "python",
   "name": "python3"
  },
  "language_info": {
   "codemirror_mode": {
    "name": "ipython",
    "version": 3
   },
   "file_extension": ".py",
   "mimetype": "text/x-python",
   "name": "python",
   "nbconvert_exporter": "python",
   "pygments_lexer": "ipython3",
   "version": "3.6.8"
  }
 },
 "nbformat": 4,
 "nbformat_minor": 2
}
